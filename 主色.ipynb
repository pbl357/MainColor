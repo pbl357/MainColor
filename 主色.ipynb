{
 "cells": [
  {
   "cell_type": "markdown",
   "metadata": {},
   "source": [
    "### 调用colorgram"
   ]
  },
  {
   "cell_type": "code",
   "execution_count": 19,
   "metadata": {},
   "outputs": [],
   "source": [
    "import colorgram\n",
    "import numpy as np\n",
    "import matplotlib.pyplot as plt\n",
    "colors = colorgram.extract('/Users/xx/1.png', 6)\n",
    "# colors = np.array([list(r.rgb) for r in colors])\n",
    "# index = np.arange(6).reshape(1, 6)\n",
    "# plt.imshow(colors[index])"
   ]
  },
  {
   "cell_type": "markdown",
   "metadata": {},
   "source": [
    "### 计算h的均值，通过对比h均值计算主色调"
   ]
  },
  {
   "cell_type": "code",
   "execution_count": null,
   "metadata": {},
   "outputs": [],
   "source": [
    "import cv2\n",
    "import numpy as np\n",
    "import matplotlib.pyplot as plt\n",
    "im = cv2.imread('/Users/xx/1.png')\n",
    "new_im = cv2.cvtColor(im, cv2.COLOR_BGR2HSV)\n",
    "mean_hue = new_im.mean(axis=0).mean(axis=0)[0]\n",
    "threshold = 0  # 可调整\n",
    "index = np.where(new_im[:, :, 0] > mean_hue + threshold)\n",
    "bgr = im[index[0], index[1]]\n",
    "bgr = bgr.mean(axis=0)\n",
    "rgb = bgr[::-1]"
   ]
  },
  {
   "cell_type": "markdown",
   "metadata": {},
   "source": [
    "### 参考 https://github.com/pixelogik/ColorCube"
   ]
  },
  {
   "cell_type": "code",
   "execution_count": null,
   "metadata": {},
   "outputs": [],
   "source": []
  }
 ],
 "metadata": {
  "kernelspec": {
   "display_name": "Python 3",
   "language": "python",
   "name": "python3"
  },
  "language_info": {
   "codemirror_mode": {
    "name": "ipython",
    "version": 3
   },
   "file_extension": ".py",
   "mimetype": "text/x-python",
   "name": "python",
   "nbconvert_exporter": "python",
   "pygments_lexer": "ipython3",
   "version": "3.8.5"
  }
 },
 "nbformat": 4,
 "nbformat_minor": 4
}
